{
 "cells": [
  {
   "cell_type": "markdown",
   "id": "40a00407-87a5-4c69-ab5c-5fe6da9c1816",
   "metadata": {},
   "source": [
    "# Web scraping - Yelp (Restaurants)\n",
    "\n",
    "I am going to Scrape restaurants information from Yelp.\n",
    "\n",
    "1. Setting Environment\n",
    "2. Collect Information from the First item\n",
    "3. Combine all the code & create functions\n",
    "4. Save the date to csv file"
   ]
  },
  {
   "cell_type": "markdown",
   "id": "7a864f35-3445-4e84-90ac-1f824a605fed",
   "metadata": {},
   "source": [
    "## 1. Setting environment"
   ]
  },
  {
   "cell_type": "code",
   "execution_count": 1,
   "id": "27281461-ee07-4d5b-888c-e5a0334ccb02",
   "metadata": {},
   "outputs": [],
   "source": [
    "# libraries\n",
    "from bs4 import BeautifulSoup\n",
    "from selenium import webdriver \n",
    "import requests\n",
    "import pandas as pd\n",
    "from time import sleep"
   ]
  },
  {
   "cell_type": "code",
   "execution_count": 19,
   "id": "f2c76889-232d-4f8d-b24f-24049f3ea5ff",
   "metadata": {},
   "outputs": [],
   "source": [
    "# Set URl for scraping\n",
    "url = 'https://www.yelp.ca/search?find_desc=&find_loc=Markham%2C+ON&ns=1'\n",
    "res = requests.get(url)\n",
    "driver = webdriver.Chrome('chromedriver.exe')"
   ]
  },
  {
   "cell_type": "code",
   "execution_count": 20,
   "id": "4a14340f-c6fe-402a-89f9-11b355ee1c42",
   "metadata": {},
   "outputs": [
    {
     "data": {
      "text/plain": [
       "<Response [200]>"
      ]
     },
     "execution_count": 20,
     "metadata": {},
     "output_type": "execute_result"
    }
   ],
   "source": [
    "# Check if the url was successfuly read\n",
    "res"
   ]
  },
  {
   "cell_type": "code",
   "execution_count": 21,
   "id": "6f888d06-8d97-4fb5-b242-976dc1e3c93b",
   "metadata": {},
   "outputs": [],
   "source": [
    "# Read the page as html\n",
    "soup = BeautifulSoup(res.text,'html.parser')"
   ]
  },
  {
   "cell_type": "markdown",
   "id": "a511745a-babc-4b8d-9aed-6e0f0ad4276f",
   "metadata": {},
   "source": [
    "## 2. Collect information from the first Item\n",
    "\n",
    "Before scraping all the pages, I am going to scrape only the first item's information.<br>\n",
    "The information would be **Restaurant's name, Rating, Number of review, Category,and Price range.**"
   ]
  },
  {
   "cell_type": "code",
   "execution_count": 22,
   "id": "849240ff-7df7-4ca8-90d9-81df77488fd3",
   "metadata": {},
   "outputs": [
    {
     "data": {
      "text/plain": [
       "'1.\\xa0Duo Patisserie & Cafe407DessertsCoffee & TeaBakeries$$This is a placeholder“Their pastries always impress because the sweetness and flavour is just right, ontop of the beautiful presentation of their pastries. They also open really…”\\xa0more'"
      ]
     },
     "execution_count": 22,
     "metadata": {},
     "output_type": "execute_result"
    }
   ],
   "source": [
    "items = soup.find_all('div',attrs={'class':'container__09f24__sxa9-'})\n",
    "item = items[0]\n",
    "item.text"
   ]
  },
  {
   "cell_type": "code",
   "execution_count": 7,
   "id": "558b4a16-cfdb-4041-8850-4dd567ececca",
   "metadata": {},
   "outputs": [
    {
     "data": {
      "text/plain": [
       "<h4 class=\"css-1l5lt1i\"><span class=\"css-1pxmz4g\">10<!-- -->. <a class=\"css-166la90\" href=\"/biz/felix-and-norton-markham-2\" name=\"Felix &amp; Norton\">Felix &amp; Norton</a></span></h4>"
      ]
     },
     "execution_count": 7,
     "metadata": {},
     "output_type": "execute_result"
    }
   ],
   "source": [
    "items[9].h4"
   ]
  },
  {
   "cell_type": "code",
   "execution_count": 8,
   "id": "94d433c4-71be-4731-9180-0c0762f16758",
   "metadata": {},
   "outputs": [
    {
     "data": {
      "text/plain": [
       "'Duo Patisserie & Cafe'"
      ]
     },
     "execution_count": 8,
     "metadata": {},
     "output_type": "execute_result"
    }
   ],
   "source": [
    "# Restaurant's name\n",
    "name = item.find('a',attrs={'class':'css-166la90'}).text\n",
    "name"
   ]
  },
  {
   "cell_type": "code",
   "execution_count": 9,
   "id": "a495ba18-ad41-42ae-b645-fb0c136f31ed",
   "metadata": {},
   "outputs": [
    {
     "data": {
      "text/plain": [
       "'4.5 star rating'"
      ]
     },
     "execution_count": 9,
     "metadata": {},
     "output_type": "execute_result"
    }
   ],
   "source": [
    "# Rating\n",
    "rating = item.find('div',attrs={'class':'i-stars__09f24___sZu0'})['aria-label']\n",
    "rating"
   ]
  },
  {
   "cell_type": "code",
   "execution_count": 10,
   "id": "ec793ece-2bf7-4ca7-abe7-663f54e12115",
   "metadata": {},
   "outputs": [
    {
     "data": {
      "text/plain": [
       "407"
      ]
     },
     "execution_count": 10,
     "metadata": {},
     "output_type": "execute_result"
    }
   ],
   "source": [
    "# Number of review\n",
    "num_review = item.find('span',attrs={'class':'reviewCount__09f24__3GsGY'}).text\n",
    "num_review = int(num_review)\n",
    "num_review"
   ]
  },
  {
   "cell_type": "code",
   "execution_count": 11,
   "id": "bdf085b0-4a2e-4f57-a3fd-4102c448b8ed",
   "metadata": {},
   "outputs": [
    {
     "data": {
      "text/plain": [
       "'Desserts'"
      ]
     },
     "execution_count": 11,
     "metadata": {},
     "output_type": "execute_result"
    }
   ],
   "source": [
    "# Category\n",
    "kind_of_food = item.find('p',attrs={'class':'text__09f24__2NHRu'}).text\n",
    "kind_of_food"
   ]
  },
  {
   "cell_type": "code",
   "execution_count": 12,
   "id": "f922edbf-d133-4764-beca-4a1408f37091",
   "metadata": {},
   "outputs": [
    {
     "data": {
      "text/plain": [
       "'$$'"
      ]
     },
     "execution_count": 12,
     "metadata": {},
     "output_type": "execute_result"
    }
   ],
   "source": [
    "# Price range\n",
    "price_range = item.find('span', attrs={'class':'priceRange__09f24__2GspP'}).text\n",
    "price_range"
   ]
  },
  {
   "cell_type": "code",
   "execution_count": 13,
   "id": "37bc072d-cce7-45d7-8c3d-33e96e1ffad7",
   "metadata": {},
   "outputs": [
    {
     "data": {
      "text/plain": [
       "''"
      ]
     },
     "execution_count": 13,
     "metadata": {},
     "output_type": "execute_result"
    }
   ],
   "source": [
    "# Area\n",
    "area = item.p.text.split('$')[-1]\n",
    "area"
   ]
  },
  {
   "cell_type": "code",
   "execution_count": 14,
   "id": "571ec350-1c61-4e52-a7f7-86ca43a0ed79",
   "metadata": {},
   "outputs": [
    {
     "data": {
      "text/plain": [
       "10"
      ]
     },
     "execution_count": 14,
     "metadata": {},
     "output_type": "execute_result"
    }
   ],
   "source": [
    "# Number of item in one page, 10 is correct\n",
    "len(items)"
   ]
  },
  {
   "cell_type": "markdown",
   "id": "5c49599b-e8c0-4d63-90d5-afbc7cbcb90e",
   "metadata": {},
   "source": [
    "## 3. Combine all the Code & Create functions\n",
    "\n",
    "By using the code above, I am going to create some functions to collect all the information.\n",
    "\n",
    "#### Function: get_info()\n",
    "1. Initiate a list called \"data\" (All the information will be in this list).\n",
    "2. Create a function called \"get_info\". This will loop all the items in the page and get information.\n",
    "3. Once collected information in the page, these will be stored in a dictionary called \"details\".\n",
    "4. Add the dictionary into the \"data\" list.\n",
    "\n",
    "#### Function: main()\n",
    "1. This is a function to run the function \"get_info()\"\n",
    "2. Loop get_info() function for the number of pages in the list.\n",
    "3. Each time after the get_info() function, open next page and loop the process."
   ]
  },
  {
   "cell_type": "code",
   "execution_count": 36,
   "id": "d2add9bc-9628-4701-8913-075142f53d1a",
   "metadata": {},
   "outputs": [],
   "source": [
    "# Set url of the page/BeautifulSoup/webdriver\n",
    "# Function to get all the information \n",
    "data = []\n",
    "def get_info(items):\n",
    "    \n",
    "    # Loop all the items and get each information\n",
    "    for item in items:\n",
    "        try:\n",
    "            name = item.find('a',attrs={'class':'css-166la90'}).text\n",
    "        except:\n",
    "            name =  \"\"\n",
    "        \n",
    "        try:\n",
    "            rating = item.find('div',attrs={'class':'i-stars__09f24___sZu0'})['aria-label']\n",
    "        except:\n",
    "            rating =  \"\"\n",
    "\n",
    "        try:\n",
    "            num_review = item.find('span',attrs={'class':'reviewCount__09f24__3GsGY'}).text\n",
    "            num_review = int(num_review)\n",
    "        except:\n",
    "            num_review =  0\n",
    "        \n",
    "        try:\n",
    "            kind_of_food = item.find('p',attrs={'class':'text__09f24__2NHRu'}).text\n",
    "        except:\n",
    "            kind_of_food =  \"\"\n",
    "\n",
    "        try:\n",
    "            price_range = item.find('span',attrs={'class':'priceRange__09f24__2GspP'}).text\n",
    "        except:\n",
    "            price_range =  \"\"\n",
    "\n",
    "        try:\n",
    "            area = item.p.text.split('$')[-1]\n",
    "        except:\n",
    "            area =  \"\"\n",
    "        \n",
    "        # Put the information in the dictionary \"details\"\n",
    "        details = {}\n",
    "        \n",
    "        details['Name'] = name\n",
    "        details['Rating'] = rating\n",
    "        details['Review_count'] = num_review\n",
    "        details['category'] = kind_of_food\n",
    "        details['price_range'] = price_range\n",
    "        details['area'] = area\n",
    "        \n",
    "        # Add the dictionary into a list \"data\"\n",
    "        data.append(details)\n",
    "        \n",
    "\n",
    "def main():  \n",
    "    driver = webdriver.Chrome('chromedriver.exe')\n",
    "    page_list = [1,10,20,30,40,50,60,70,80,90,100,110,120,130,140,150,160,170,180,190,200,210,220,230]\n",
    "\n",
    "    for page in page_list:\n",
    "        url = \"https://www.yelp.ca/search?find_desc=&find_loc=Markham%2C%20Ontario&ns=1&start={}\".format(page)\n",
    "        driver.get(url)\n",
    "        res = requests.get(url)\n",
    "        soup = BeautifulSoup(res.text,'html.parser')\n",
    "        items = soup.find_all('div',attrs={'class':'container__09f24__sxa9-'})\n",
    "        get_info(items)\n",
    "        sleep(2)"
   ]
  },
  {
   "cell_type": "code",
   "execution_count": 37,
   "id": "180999a6-53ec-4ed7-82bf-85f93dc2d2a4",
   "metadata": {},
   "outputs": [],
   "source": [
    "# Run main function\n",
    "main()"
   ]
  },
  {
   "cell_type": "code",
   "execution_count": 38,
   "id": "7d67c04e-7736-4cec-8fee-120662b677b4",
   "metadata": {},
   "outputs": [
    {
     "data": {
      "text/plain": [
       "240"
      ]
     },
     "execution_count": 38,
     "metadata": {},
     "output_type": "execute_result"
    }
   ],
   "source": [
    "# Number of items\n",
    "len(data)"
   ]
  },
  {
   "cell_type": "code",
   "execution_count": 39,
   "id": "1306023b-bb1a-4bd5-806a-40fe730dc3fd",
   "metadata": {
    "tags": []
   },
   "outputs": [
    {
     "data": {
      "text/plain": [
       "[{'Name': 'Smash Kitchen & Bar',\n",
       "  'Rating': '4 star rating',\n",
       "  'Review_count': 762,\n",
       "  'category': 'Comfort Food',\n",
       "  'price_range': '$$',\n",
       "  'area': 'Unionville'},\n",
       " {'Name': 'NextDoor Restaurant',\n",
       "  'Rating': '4 star rating',\n",
       "  'Review_count': 475,\n",
       "  'category': 'Canadian (New)',\n",
       "  'price_range': '$$',\n",
       "  'area': 'Unionville Mainstreet'},\n",
       " {'Name': 'Alchemy Coffee',\n",
       "  'Rating': '4 star rating',\n",
       "  'Review_count': 528,\n",
       "  'category': 'Coffee & Tea',\n",
       "  'price_range': '$$',\n",
       "  'area': 'Unionville'},\n",
       " {'Name': 'Inspire Restaurant',\n",
       "  'Rating': '4 star rating',\n",
       "  'Review_count': 494,\n",
       "  'category': 'Asian Fusion',\n",
       "  'price_range': '$$',\n",
       "  'area': 'Unionville'},\n",
       " {'Name': 'Fat Ninja Bite',\n",
       "  'Rating': '4.5 star rating',\n",
       "  'Review_count': 507,\n",
       "  'category': 'Japanese',\n",
       "  'price_range': '$$',\n",
       "  'area': 'Milliken'}]"
      ]
     },
     "execution_count": 39,
     "metadata": {},
     "output_type": "execute_result"
    }
   ],
   "source": [
    "# Check if the information is stored properly\n",
    "data[:5]"
   ]
  },
  {
   "cell_type": "code",
   "execution_count": 40,
   "id": "4121eb82-8b24-4ce9-bb6e-57deafc22085",
   "metadata": {},
   "outputs": [],
   "source": [
    "# Put the data into dataframe using pandas\n",
    "df = pd.DataFrame(data)"
   ]
  },
  {
   "cell_type": "code",
   "execution_count": 41,
   "id": "1474780d-00f4-4509-af5d-462ca3470170",
   "metadata": {},
   "outputs": [
    {
     "data": {
      "text/html": [
       "<div>\n",
       "<style scoped>\n",
       "    .dataframe tbody tr th:only-of-type {\n",
       "        vertical-align: middle;\n",
       "    }\n",
       "\n",
       "    .dataframe tbody tr th {\n",
       "        vertical-align: top;\n",
       "    }\n",
       "\n",
       "    .dataframe thead th {\n",
       "        text-align: right;\n",
       "    }\n",
       "</style>\n",
       "<table border=\"1\" class=\"dataframe\">\n",
       "  <thead>\n",
       "    <tr style=\"text-align: right;\">\n",
       "      <th></th>\n",
       "      <th>Name</th>\n",
       "      <th>Rating</th>\n",
       "      <th>Review_count</th>\n",
       "      <th>category</th>\n",
       "      <th>price_range</th>\n",
       "      <th>area</th>\n",
       "    </tr>\n",
       "  </thead>\n",
       "  <tbody>\n",
       "    <tr>\n",
       "      <th>0</th>\n",
       "      <td>Smash Kitchen &amp; Bar</td>\n",
       "      <td>4 star rating</td>\n",
       "      <td>762</td>\n",
       "      <td>Comfort Food</td>\n",
       "      <td>$$</td>\n",
       "      <td>Unionville</td>\n",
       "    </tr>\n",
       "    <tr>\n",
       "      <th>1</th>\n",
       "      <td>NextDoor Restaurant</td>\n",
       "      <td>4 star rating</td>\n",
       "      <td>475</td>\n",
       "      <td>Canadian (New)</td>\n",
       "      <td>$$</td>\n",
       "      <td>Unionville Mainstreet</td>\n",
       "    </tr>\n",
       "    <tr>\n",
       "      <th>2</th>\n",
       "      <td>Alchemy Coffee</td>\n",
       "      <td>4 star rating</td>\n",
       "      <td>528</td>\n",
       "      <td>Coffee &amp; Tea</td>\n",
       "      <td>$$</td>\n",
       "      <td>Unionville</td>\n",
       "    </tr>\n",
       "    <tr>\n",
       "      <th>3</th>\n",
       "      <td>Inspire Restaurant</td>\n",
       "      <td>4 star rating</td>\n",
       "      <td>494</td>\n",
       "      <td>Asian Fusion</td>\n",
       "      <td>$$</td>\n",
       "      <td>Unionville</td>\n",
       "    </tr>\n",
       "    <tr>\n",
       "      <th>4</th>\n",
       "      <td>Fat Ninja Bite</td>\n",
       "      <td>4.5 star rating</td>\n",
       "      <td>507</td>\n",
       "      <td>Japanese</td>\n",
       "      <td>$$</td>\n",
       "      <td>Milliken</td>\n",
       "    </tr>\n",
       "  </tbody>\n",
       "</table>\n",
       "</div>"
      ],
      "text/plain": [
       "                  Name           Rating  Review_count        category  \\\n",
       "0  Smash Kitchen & Bar    4 star rating           762    Comfort Food   \n",
       "1  NextDoor Restaurant    4 star rating           475  Canadian (New)   \n",
       "2       Alchemy Coffee    4 star rating           528    Coffee & Tea   \n",
       "3   Inspire Restaurant    4 star rating           494    Asian Fusion   \n",
       "4       Fat Ninja Bite  4.5 star rating           507        Japanese   \n",
       "\n",
       "  price_range                   area  \n",
       "0          $$             Unionville  \n",
       "1          $$  Unionville Mainstreet  \n",
       "2          $$             Unionville  \n",
       "3          $$             Unionville  \n",
       "4          $$               Milliken  "
      ]
     },
     "execution_count": 41,
     "metadata": {},
     "output_type": "execute_result"
    }
   ],
   "source": [
    "# First 5 rows \n",
    "df.head()"
   ]
  },
  {
   "cell_type": "code",
   "execution_count": 42,
   "id": "d131f609-cfa7-435d-9433-2f93043202db",
   "metadata": {},
   "outputs": [],
   "source": [
    "# Generate a csv file\n",
    "df.to_csv('yelp.csv',encoding='utf-8', index=False)"
   ]
  },
  {
   "cell_type": "markdown",
   "id": "de4565e0-5f8d-4b99-a962-c0363a501bb2",
   "metadata": {},
   "source": [
    "## Successfuly saved a csv file!\n",
    "\n",
    "CSV file was saved in the same directory and there are 240 rows and 6 columns as we expected."
   ]
  }
 ],
 "metadata": {
  "kernelspec": {
   "display_name": "takomachi",
   "language": "python",
   "name": "takomachi"
  },
  "language_info": {
   "codemirror_mode": {
    "name": "ipython",
    "version": 3
   },
   "file_extension": ".py",
   "mimetype": "text/x-python",
   "name": "python",
   "nbconvert_exporter": "python",
   "pygments_lexer": "ipython3",
   "version": "3.9.5"
  }
 },
 "nbformat": 4,
 "nbformat_minor": 5
}
